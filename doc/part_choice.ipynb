{
 "cells": [
  {
   "attachments": {},
   "cell_type": "markdown",
   "metadata": {},
   "source": [
    "Choice in Motors, ESCs, and Battery\n",
    "\n",
    "High power motors were chosen for their size while having good power to price ratio for a few reasons:\n",
    "* Need a high torque fast control system response.\n",
    "* A large range of power allows for precise system control at higher speeds.\n",
    "* Cost; we're students on a budget.\n",
    "\n",
    "The ESCs were chosen to match the motors maximum power of the motors.\n",
    "The battery discharge rate must also match the ESCs maximum discharge rate, however the battery capacity determines the time of flight and acceleration of the drone.\n",
    "\n",
    "https://www.aliexpress.com/item/1005004476613305.html?spm=a2g0o.order_list.order_list_main.5.155a1802zZ51a7"
   ]
  },
  {
   "attachments": {},
   "cell_type": "markdown",
   "metadata": {},
   "source": [
    "Selecting optimal battery size"
   ]
  },
  {
   "cell_type": "code",
   "execution_count": null,
   "metadata": {},
   "outputs": [],
   "source": [
    "import numpy as np\n",
    "import matplotlib.pyplot as plt"
   ]
  },
  {
   "cell_type": "code",
   "execution_count": null,
   "metadata": {},
   "outputs": [],
   "source": [
    "# to be done\n",
    "#\n",
    "rho_frame = 1500 # density of wood\n",
    "rho_blade = 1240 # density of PLA\n",
    "\n",
    "blade_length = 5 * 25.4 # length of blade in mm\n",
    "blade_width = 0.5 * 25.4 # width of blade in mm\n",
    "blade_area_m2 = blade_length * blade_width / 1000**2 # area of blade in m2\n",
    "blade_thickness = 3e-3 # mm\n",
    "blade_mass = blade_area_m2 * blade_thickness * rho_blade\n",
    "\n",
    "motor_mass = 29e-3 # kg\n",
    "ESC_mass = 9e-3 # kg\n",
    "\n",
    "frame_length = 1.2 * blade_length\n",
    "frame_area = 0.5 * frame_length**2 / 1000**2 # area of frame in m2\n",
    "frame_thickness = 5e-3\n",
    "frame_mass = frame_area * frame_thickness * rho_frame\n",
    "\n",
    "drone_mass = frame_mass + 4 * (blade_mass + motor_mass + ESC_mass)\n",
    "print(drone_mass)"
   ]
  },
  {
   "cell_type": "code",
   "execution_count": null,
   "metadata": {},
   "outputs": [],
   "source": [
    "# https://www.flyingtech.co.uk/sites/default/files/product_files/RS2205-S%20Specs.jpg\n",
    "# using HQ5045BN propeller\n",
    "\n",
    "v_3s = 11.1 # motor currents and thrusts for 3 cell battery\n",
    "motor_currents_3s = np.array([1,3.1,5.1,7.1,9.1,11.1,13.1,15.1,17.1,19.1,21.1,22.5,23])\n",
    "motor_thrusts_3s = np.array([72,176,255,329,396,460,527,575,632,681,725,758,774]) * 1e-3 # kg thrust\n",
    "\n",
    "v_4s = 14.8 # motor currents and thrusts for a 4 cell battery\n",
    "motor_currents_4s = np.array([1,3.1,5.1,7.1,9.1,11.1,13.1,15.2,17.1,19.1,21.2,23.2,25.2,27.3,29.3,31.3,33.3,35.1,36.4])\n",
    "motor_thrusts_4s = np.array([90,204,306,388,457,523,591,664,722,774,836,887,942,995,1045,1098,1150,1208,1236]) * 1e-3 # kg thrust\n",
    "\n",
    "# batteries are 100 to 158 Wh/Kg typically in the range of 50 to 500 g\n",
    "edensity_lower = 100 # Wh/Kg\n",
    "edensity_upper = 158 # Wh/Kg\n",
    "battery_masses = np.linspace(50, 1000, 100) / 1000 # kg\n",
    "battery_capacacties_lower_3s = battery_masses * edensity_lower * 1000 / v_3s # mAh\n",
    "battery_capacacties_middle_3s = battery_masses * (edensity_upper + edensity_lower) * 500 / v_3s # mAh\n",
    "battery_capacacties_upper_3s = battery_masses * edensity_upper * 1000 / v_3s # mAh\n",
    "\n",
    "# polyfit and find current at each hover thrust for each battery mass\n",
    "fit_3s = np.poly1d(np.polyfit(motor_thrusts_3s, motor_currents_3s, 5))\n",
    "hover_currents_3s = fit_3s((battery_masses + drone_mass) / 4 ) # divide by 4 for 4 motors\n",
    "\n",
    "power_3s = v_3s**2 * hover_currents_3s * 4 # 4 motors\n",
    "TOF_upper_3s = battery_capacacties_lower_3s * v_3s * (60 / 1000) / power_3s\n",
    "TOF_middle_3s = battery_capacacties_middle_3s * v_3s * (60 / 1000) / power_3s\n",
    "TOF_lower_3s = battery_capacacties_upper_3s * v_3s * (60 / 1000) / power_3s\n",
    "\n",
    "battery_capacacties_lower_4s = battery_masses * edensity_lower * 1000 / v_4s # mAh\n",
    "battery_capacacties_middle_4s = battery_masses * (edensity_upper + edensity_lower) * 500 / v_4s # mAh\n",
    "battery_capacacties_upper_4s = battery_masses * edensity_upper * 1000 / v_4s # mAh\n",
    "\n",
    "# polyfit and find current at each hover thrust for each battery mass\n",
    "fit = np.poly1d(np.polyfit(motor_thrusts_4s, motor_currents_4s, 5))\n",
    "hover_currents_4s = fit((battery_masses + drone_mass) / 4 ) # divide by 4 for 4 motors\n",
    "\n",
    "power_4s = v_4s**2 * hover_currents_4s * 4 # 4 motors\n",
    "TOF_upper_4s = battery_capacacties_lower_4s * v_4s * (60 / 1000) / power_4s\n",
    "TOF_middle_4s = battery_capacacties_middle_4s * v_4s * (60 / 1000) / power_4s\n",
    "TOF_lower_4s = battery_capacacties_upper_4s * v_4s * (60 / 1000) / power_4s\n",
    "\n",
    "plt.fill_between(battery_capacacties_lower_3s, TOF_lower_3s, TOF_upper_3s, alpha=0.4, label='3 cell (11.1V)')\n",
    "plt.plot(battery_capacacties_middle_3s, TOF_middle_3s, 'k', c='blue')\n",
    "\n",
    "plt.fill_between(battery_capacacties_lower_4s, TOF_lower_4s, TOF_upper_4s, alpha=0.4, label='4 cell (14.8V)')\n",
    "plt.plot(battery_capacacties_middle_4s, TOF_middle_4s, 'k', c='r')\n",
    "\n",
    "plt.xlabel('Battery capacity (mAh)')\n",
    "plt.ylabel('Time of flight (min)')\n",
    "plt.xlim(0, 6000)\n",
    "plt.legend()\n"
   ]
  },
  {
   "cell_type": "code",
   "execution_count": null,
   "metadata": {},
   "outputs": [],
   "source": [
    "# graph of max acceleration vs. battery capacity\n",
    "\n",
    "fit_3s = np.poly1d(np.polyfit(motor_currents_3s, motor_thrusts_3s, 5))\n",
    "fit_4s = np.poly1d(np.polyfit(motor_currents_4s, motor_thrusts_4s, 5))\n",
    "max_thrust_3s = fit_3s(motor_currents_3s[-1]) # 3 cell battery\n",
    "max_thrust_4s = fit_4s(motor_currents_4s[-1]) # 4 cell battery\n",
    "\n",
    "g = 9.81\n",
    "max_accelerations_3s = ((max_thrust_3s * 4) / (battery_masses + drone_mass) - 1 ) * g # 4 motors\n",
    "max_accelerations_4s = ((max_thrust_4s * 4) / (battery_masses + drone_mass) - 1 ) * g # 4 motors\n",
    "\n",
    "plt.plot(battery_capacacties_middle_3s, max_accelerations_3s, label='3 cell (11.1V)')\n",
    "plt.plot(battery_capacacties_middle_4s, max_accelerations_4s, label='4 cell (14.8V)')\n",
    "\n",
    "plt.xlabel('Battery capacity (mAh)')\n",
    "plt.ylabel('Max acceleration (m/s^2)')\n",
    "plt.legend()\n"
   ]
  }
 ],
 "metadata": {
  "kernelspec": {
   "display_name": "Python 3",
   "language": "python",
   "name": "python3"
  },
  "language_info": {
   "codemirror_mode": {
    "name": "ipython",
    "version": 3
   },
   "file_extension": ".py",
   "mimetype": "text/x-python",
   "name": "python",
   "nbconvert_exporter": "python",
   "pygments_lexer": "ipython3",
   "version": "3.10.8"
  },
  "orig_nbformat": 4,
  "vscode": {
   "interpreter": {
    "hash": "52af2100627e19856ff19ffeecc72f0dde92b1b054ee87d4964f694fb586b018"
   }
  }
 },
 "nbformat": 4,
 "nbformat_minor": 2
}
