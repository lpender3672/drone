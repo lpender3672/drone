{
 "cells": [
  {
   "attachments": {},
   "cell_type": "markdown",
   "metadata": {},
   "source": [
    "Blade design to maximize lift and minimize drag\n",
    "\n",
    "Drone blades have a characteristic shape and angle of attack that maximize lift and minimize drag. This is dependant on the speed of the blade relative to the air around it.\n"
   ]
  },
  {
   "cell_type": "code",
   "execution_count": null,
   "metadata": {},
   "outputs": [],
   "source": [
    "import numpy as np\n",
    "import pandas as pd\n",
    "import mock\n",
    "from openpyxl.reader import excel#\n",
    "import os\n",
    "import shutil"
   ]
  },
  {
   "cell_type": "code",
   "execution_count": null,
   "metadata": {},
   "outputs": [],
   "source": [
    "# if blade_data folder is empty, run the following code to copy data from the cad folder\n",
    "# locations: ../cad/blade_design/{n}/{n}_goal plot 1.xlsx\n",
    "# n = 2-16\n",
    "\"\"\"\n",
    "if not os.path.exists('blade_data'):\n",
    "    os.mkdir('blade_data')\n",
    "    for i in range(2,17):\n",
    "        shutil.copy('..\\\\cad\\\\blade_design\\\\'+str(i)+'\\\\'+str(i)+'_goal plot 1.xlsx', 'blade_data\\\\'+str(i)+'.xlsx')\n",
    "\"\"\""
   ]
  },
  {
   "cell_type": "code",
   "execution_count": null,
   "metadata": {},
   "outputs": [],
   "source": [
    "\n",
    "NF = []\n",
    "F = []\n",
    "# workaround https://foss.heptapod.net/openpyxl/openpyxl/-/issues/1659\n",
    "with mock.patch.object(excel.ExcelReader, 'read_properties', lambda self: None):\n",
    "    for n in range(2,17):\n",
    "        df = pd.read_excel(f\"blade_data//{n}.xlsx\", sheet_name=\"Summary\")\n",
    "        df = df.dropna(how=\"all\")\n",
    "        NF.append(df._get_value(2, \"Unnamed: 3\"))\n",
    "        F.append(df._get_value(3, \"Unnamed: 3\"))"
   ]
  },
  {
   "cell_type": "code",
   "execution_count": null,
   "metadata": {},
   "outputs": [],
   "source": [
    "a0 = np.array([20, 25, 30, 35, 40])\n",
    "twist = np.array([20, 30, 40])\n",
    "\n",
    "NF = np.array(NF).reshape(5, 3)\n",
    "F = np.array(F).reshape(5, 3)\n",
    "# plot force against a0 for each twist\n",
    "import matplotlib.pyplot as plt\n",
    "for i in range(3):\n",
    "    plt.plot(a0, F[:, i], label=f\"{twist[i]} deg blade twist\")\n",
    "plt.legend()\n",
    "plt.xlabel(\"azimuth angle (deg)\")\n",
    "plt.ylabel(\"Force (N)\")\n",
    "plt.title(\"Thrust against azimuth angle for different blade twist angles\")\n",
    "plt.show()"
   ]
  }
 ],
 "metadata": {
  "kernelspec": {
   "display_name": "Python 3",
   "language": "python",
   "name": "python3"
  },
  "language_info": {
   "codemirror_mode": {
    "name": "ipython",
    "version": 3
   },
   "file_extension": ".py",
   "mimetype": "text/x-python",
   "name": "python",
   "nbconvert_exporter": "python",
   "pygments_lexer": "ipython3",
   "version": "3.10.8 (tags/v3.10.8:aaaf517, Oct 11 2022, 16:50:30) [MSC v.1933 64 bit (AMD64)]"
  },
  "orig_nbformat": 4,
  "vscode": {
   "interpreter": {
    "hash": "52af2100627e19856ff19ffeecc72f0dde92b1b054ee87d4964f694fb586b018"
   }
  }
 },
 "nbformat": 4,
 "nbformat_minor": 2
}
