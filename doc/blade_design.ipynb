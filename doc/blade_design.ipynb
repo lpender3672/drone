{
 "cells": [
  {
   "attachments": {},
   "cell_type": "markdown",
   "metadata": {},
   "source": [
    "Blade design to maximize lift and minimize drag\n",
    "\n",
    "Drone blades have a characteristic shape and angle of attack that maximize lift and minimize drag. This is dependant on the speed of the blade relative to the air around it.\n"
   ]
  },
  {
   "cell_type": "code",
   "execution_count": null,
   "metadata": {},
   "outputs": [],
   "source": [
    "# to be done"
   ]
  }
 ],
 "metadata": {
  "kernelspec": {
   "display_name": "Python 3",
   "language": "python",
   "name": "python3"
  },
  "language_info": {
   "name": "python",
   "version": "3.10.8 (tags/v3.10.8:aaaf517, Oct 11 2022, 16:50:30) [MSC v.1933 64 bit (AMD64)]"
  },
  "orig_nbformat": 4,
  "vscode": {
   "interpreter": {
    "hash": "52af2100627e19856ff19ffeecc72f0dde92b1b054ee87d4964f694fb586b018"
   }
  }
 },
 "nbformat": 4,
 "nbformat_minor": 2
}
